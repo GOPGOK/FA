{
 "cells": [
  {
   "cell_type": "markdown",
   "metadata": {},
   "source": [
    "# Задание 1"
   ]
  },
  {
   "cell_type": "markdown",
   "metadata": {},
   "source": [
    "Выполнить представление через множества и ленточное представления бинарного дерева, представленного на рис. 1"
   ]
  },
  {
   "cell_type": "markdown",
   "metadata": {},
   "source": [
    "## Программная реализация"
   ]
  },
  {
   "cell_type": "markdown",
   "metadata": {},
   "source": [
    "![](tree.png)"
   ]
  },
  {
   "cell_type": "code",
   "execution_count": 3,
   "metadata": {},
   "outputs": [],
   "source": [
    "class BinaryTree:\n",
    "    \"\"\"Класс бинарного дерева\"\"\"\n",
    "\n",
    "    def __init__(self, root):\n",
    "        self.key = root\n",
    "        self.left_child = None\n",
    "        self.right_child = None\n",
    "\n",
    "    def insert_left(self, new_node):\n",
    "        \"\"\"Вставка элемента слева\"\"\"\n",
    "        if self.left_child == None:\n",
    "            self.left_child = BinaryTree(new_node)\n",
    "        else:\n",
    "            t = BinaryTree(new_node)\n",
    "            t.left_child = self.left_child\n",
    "            self.left_child = t\n",
    "\n",
    "    def insert_right(self, new_node):\n",
    "        \"\"\"Вставка элемента справа\"\"\"\n",
    "        if self.right_child == None:\n",
    "            self.right_child = BinaryTree(new_node)\n",
    "        else:\n",
    "            t = BinaryTree(new_node)\n",
    "            t.right_child = self.right_child\n",
    "            self.right_child = t\n",
    "\n",
    "    def get_right_child(self):\n",
    "        \"\"\"Получение подэлемента справа\"\"\"\n",
    "        return self.right_child\n",
    "\n",
    "    def get_left_child(self):\n",
    "        \"\"\"Получение подэлемента слева\"\"\"\n",
    "        return self.left_child\n",
    "\n",
    "    def set_root_val(self, obj):\n",
    "        \"\"\"Выставление значения\"\"\"\n",
    "        self.key = obj\n",
    "\n",
    "    def get_root_val(self):\n",
    "        \"\"\"Получение значения\"\"\"\n",
    "        return self.key\n",
    "\n",
    "    def __str__(self):\n",
    "        \"\"\"Вывод структуры на экран\"\"\"\n",
    "        return '{} ({}, {})'.format(self.get_root_val(), str(self.get_left_child()), str(self.get_right_child()))\n"
   ]
  },
  {
   "cell_type": "code",
   "execution_count": 4,
   "metadata": {},
   "outputs": [
    {
     "name": "stdout",
     "output_type": "stream",
     "text": [
      "Реализованное дерево:\n",
      "8 (4 (2 (1 (None, None), 3 (None, None)), 6 (5 (None, None), 7 (None, None))), 12 (10 (9 (None, None), 11 (None, None)), 14 (13 (None, None), 15 (None, None))))\n"
     ]
    }
   ],
   "source": [
    "\n",
    "def main():\n",
    "\n",
    "    # Элемент на 1 уровне\n",
    "    r = BinaryTree('8')\n",
    "    r.insert_left('4')\n",
    "    r.insert_right('12')\n",
    "\n",
    "    # Элементы на 2 уровне\n",
    "    r_1 = r.get_left_child()\n",
    "    r_2 = r.get_right_child()\n",
    "\n",
    "    r_1.insert_left('2')\n",
    "    r_1.insert_right('6')\n",
    "    r_2.insert_left('10')\n",
    "    r_2.insert_right('14')\n",
    "\n",
    "    # Элементы на 3 уровне\n",
    "    r_11 = r_1.get_left_child()\n",
    "    r_12 = r_1.get_right_child()\n",
    "\n",
    "    r_21 = r_2.get_left_child()\n",
    "    r_22 = r_2.get_right_child()\n",
    "\n",
    "    # Добавление элементов на 4 уровень\n",
    "\n",
    "    r_11.insert_left('1')\n",
    "    r_11.insert_right('3')\n",
    "    r_12.insert_left('5')\n",
    "    r_12.insert_right('7')\n",
    "\n",
    "    r_21.insert_left('9')\n",
    "    r_21.insert_right('11')\n",
    "    r_22.insert_left('13')\n",
    "    r_22.insert_right('15')\n",
    "\n",
    "    print(\"Реализованное дерево:\")\n",
    "    print(r)\n",
    "\n",
    "\n",
    "if __name__ == \"__main__\":\n",
    "    main()\n"
   ]
  },
  {
   "cell_type": "markdown",
   "metadata": {},
   "source": [
    "## Представление через множества"
   ]
  },
  {
   "cell_type": "markdown",
   "metadata": {},
   "source": [
    "![](multiple.jpg)"
   ]
  },
  {
   "cell_type": "markdown",
   "metadata": {},
   "source": [
    "## Линейное представление"
   ]
  },
  {
   "cell_type": "markdown",
   "metadata": {},
   "source": [
    "![](linear.jpg)"
   ]
  },
  {
   "cell_type": "code",
   "execution_count": null,
   "metadata": {},
   "outputs": [],
   "source": []
  }
 ],
 "metadata": {
  "kernelspec": {
   "display_name": "Python 3",
   "language": "python",
   "name": "python3"
  },
  "language_info": {
   "codemirror_mode": {
    "name": "ipython",
    "version": 3
   },
   "file_extension": ".py",
   "mimetype": "text/x-python",
   "name": "python",
   "nbconvert_exporter": "python",
   "pygments_lexer": "ipython3",
   "version": "3.7.7"
  }
 },
 "nbformat": 4,
 "nbformat_minor": 4
}
